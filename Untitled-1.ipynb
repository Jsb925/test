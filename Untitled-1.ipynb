{
 "cells": [
  {
   "cell_type": "code",
   "execution_count": 13,
   "metadata": {},
   "outputs": [],
   "source": [
    "import  numpy as np\n",
    "import scipy.interpolate as spi"
   ]
  },
  {
   "cell_type": "code",
   "execution_count": 9,
   "metadata": {},
   "outputs": [],
   "source": [
    "x=np.linspace(0,np.pi/2,100)\n",
    "y=np.sin(x)"
   ]
  },
  {
   "cell_type": "code",
   "execution_count": 14,
   "metadata": {},
   "outputs": [],
   "source": [
    "a=spi.CubicSpline(xp,yp)\n",
    "def calc_arc_length(x,y):\n",
    "    arc_length=np.zeros(len(x))\n",
    "    for i in range(1,len(x)):\n",
    "        arc_length[i]=arc_length[i-1]+np.sqrt((x[i]-x[i-1])**2+(y[i]-y[i-1])**2)\n",
    "    return arc_length"
   ]
  },
  {
   "cell_type": "code",
   "execution_count": 17,
   "metadata": {},
   "outputs": [],
   "source": [
    "arc=calc_arc_length(x,y)"
   ]
  },
  {
   "cell_type": "code",
   "execution_count": 19,
   "metadata": {},
   "outputs": [],
   "source": [
    "\n",
    "def calc_theta(theta,arc,x,y):\n",
    "    for i in arc:\n",
    "        if arc[i]>=theta:\n",
    "            return i\n",
    "    p=(theta-arc[i])/(arc[i+1]-arc[i])\n",
    "    return((x[i]+p*x[i-1])/p+1,(y[i]+p*y[i+1])/p+1)\n",
    " "
   ]
  },
  {
   "cell_type": "code",
   "execution_count": null,
   "metadata": {},
   "outputs": [],
   "source": []
  }
 ],
 "metadata": {
  "kernelspec": {
   "display_name": "Python 3",
   "language": "python",
   "name": "python3"
  },
  "language_info": {
   "codemirror_mode": {
    "name": "ipython",
    "version": 3
   },
   "file_extension": ".py",
   "mimetype": "text/x-python",
   "name": "python",
   "nbconvert_exporter": "python",
   "pygments_lexer": "ipython3",
   "version": "3.8.3"
  }
 },
 "nbformat": 4,
 "nbformat_minor": 2
}
